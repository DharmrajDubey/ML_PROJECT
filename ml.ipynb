{
 "cells": [
  {
   "cell_type": "code",
   "execution_count": null,
   "id": "c08c63e4",
   "metadata": {},
   "outputs": [],
   "source": [
    "import matplotlib.pyplot as plt \n",
    "\n",
    "from sklearn,model_selection import train_test_split \n",
    "from sklearn.datasets importfetch_lfw_people\n",
    "from sklearn.decomposition import PCA\n",
    "from sklearn.discriminant_analysis import LinearDiscriminantAnalysis\n",
    "from sklearn.neural_network import MLPClassifier\n",
    "import numpy as np\n",
    "import os, cv2 \n",
    "\n",
    "def plot_gallery(images, titles, h, w, n_row=3, n_col=4):\n",
    "    \"\"\"HELPER FUNCTION TO PLOT A GALLERY OF POTRAITS\"\"\"\n",
    "    plt.figure(figsize=(1.8* n_col, 2.4 * n_row))\n",
    "    plt.subplots_adjust(bottom=0, left=.01, right=.99, top=.90, hspace=.35)\n",
    "    for i in range(n_row * n_col):\n",
    "        plt.subplot(n_row, n_col, i+1)\n",
    "        plt.imshow(images[i].reshape((h,w)), cmap=plt.cm.gray)\n",
    "        plt.title(titles[i], size=12)\n",
    "        plt.xticks(())\n",
    "        plt.yticks(())\n",
    "        "
   ]
  },
  {
   "cell_type": "code",
   "execution_count": null,
   "id": "53d8a207",
   "metadata": {},
   "outputs": [],
   "source": [
    "dir_name= \"dataset/faces/\"\n",
    "y=[];x=[];target_names=[]\n",
    "person_id=0;h=w=300\n",
    "n_sample=0\n",
    "class_names=[]\n",
    "for person_name in os.listdir(dir_name):\n",
    "    dir_path = dir_name + person_name + \"/\"\n",
    "    class_names.append(person_name)\n",
    "    for image_name in os.listdir(dir_path):\n",
    "        image_path = dir_path+image_name\n",
    "        img = cv2.imread(image_path)\n",
    "        gray =cv2.cvtColor(img, cv2.COLOR_BGR2GRAY)\n",
    "        resized_image = cv2.resize(gray,(h,w))\n",
    "        v=resized_image.flatten()\n",
    "        x.append(v)\n",
    "        n_sample = n_sample+1\n",
    "        y.append(person_id)\n",
    "        target_names.append(person_id)\n",
    "    person_id = person_id + 1\n",
    "#transform part\n",
    "y=np.array(y)\n",
    "x=np.array(x)\n",
    "target_names = np.array(target_names)\n",
    "n_features = x.shape[1]\n",
    "print(y.shape, x.shape, target_names)\n",
    "print(\"Number of sample:\",n_sample)\n",
    "n_classes = target_names.shape[0]\n",
    "\n",
    "print(\"Total dataset size:\")\n",
    "print(\"n_sample: %d\" % n_sample)\n",
    "print(\"n_features: %d\" % n_features)\n",
    "print(\"n_classes: %d\" % n_classes)"
   ]
  },
  {
   "cell_type": "code",
   "execution_count": null,
   "id": "cd3c680e",
   "metadata": {},
   "outputs": [],
   "source": [
    "x_train, x_test, y_train, y_test = train_test_split(x,y,test_size=0.25, random_state=42)\n",
    "n_components = 150\n",
    "print(\"Extracting the top %d eigenfaces from %d faces\"% (n_components, x_train.shape[0]))\n",
    "pca = PCA(n_components=n_components,svd_solver='randomized',whiten=True).fit(x_train)\n",
    "eigenfaces = pca.components_.reshape((n_components, h, w))\n",
    "eigenface_title = [\"eigenface %d\" % i for i in range(eigenfaces.shape[0])]\n",
    "plot_gallery(eigenfaces, eigenface_title, h, w)\n",
    "plt.show()\n",
    "print(\"Projecting the input data on the eigenfaces orthonormal basis\")\n",
    "x_train_pca = pca.transform(x_train)\n",
    "x_test_pca = pca.transform(x_test)\n",
    "print(x_train_pca.shape, x_test_pca.shape)\n",
    "\n",
    "lda = LinearDiscriminantAnalysis()\n",
    "lda.fit(x_train_pca , y_train)\n",
    "\n",
    "x_train_lda = lda.transform(x_train_pca)\n",
    "x_test_lda = lda.transform(x_test_pca)\n",
    "print(\"Project done\")"
   ]
  },
  {
   "cell_type": "code",
   "execution_count": null,
   "id": "774ac3d4",
   "metadata": {},
   "outputs": [],
   "source": [
    "clf = MLPClassifier(random_state=1, hidden_layer_sizes=(10,10), max_iter=1000, verbose=True).fit(x_test_lda,y_train)\n",
    "print(\"Model Weights:\")\n",
    "model_info = [coef.shape for coef in clf.coefs_]\n",
    "print(model_info)"
   ]
  },
  {
   "cell_type": "code",
   "execution_count": null,
   "id": "cb00eac4",
   "metadata": {},
   "outputs": [],
   "source": [
    "y_pred=[];y_prob =[]\n",
    "for test_face in x_test_lda:\n",
    "    prob = clf.predict_proba([test_face])[0]\n",
    "    class_id = np.where(prob == np.max(prob))[0][0]\n",
    "    y_pred.append(class_id)\n",
    "    y_prob.append(np.max(prob))\n",
    "y_pred = np.array(y_pred)\n",
    "\n",
    "prediction_title =[]\n",
    "true_positive =0\n",
    "for i in range(y_pred.shape[0]):\n",
    "    true_name = class_names[y_test[i]]\n",
    "    pred_name = class_names[y_pred[i]]\n",
    "    result = 'pred: %s, pr: %s \\ntrue: %s' % (pred_name, str(y_prob[i])[0:3], true_name)\n",
    "    prediction_title.append(result)\n",
    "    if true_name==pred_name:\n",
    "        true_positive = true_positive+1\n",
    "print(\"Accuracy:\",true_positive*100/y_pred.shape[0])\n",
    "\n",
    "plot_gallery(x_test, prediction_title, h, w)\n",
    "plt.show()"
   ]
  }
 ],
 "metadata": {
  "kernelspec": {
   "display_name": "Python 3",
   "language": "python",
   "name": "python3"
  },
  "language_info": {
   "codemirror_mode": {
    "name": "ipython",
    "version": 3
   },
   "file_extension": ".py",
   "mimetype": "text/x-python",
   "name": "python",
   "nbconvert_exporter": "python",
   "pygments_lexer": "ipython3",
   "version": "3.13.2"
  }
 },
 "nbformat": 4,
 "nbformat_minor": 5
}
